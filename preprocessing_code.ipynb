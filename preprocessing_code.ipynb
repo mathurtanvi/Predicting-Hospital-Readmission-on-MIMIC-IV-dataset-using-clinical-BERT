{
 "cells": [
  {
   "cell_type": "markdown",
   "metadata": {},
   "source": [
    "# Dissertation Code :\n",
    "1. Loading datasets\n",
    "2. Pre-Processing"
   ]
  },
  {
   "cell_type": "markdown",
   "metadata": {},
   "source": [
    "Installed Libraries"
   ]
  },
  {
   "cell_type": "code",
   "execution_count": 49,
   "metadata": {},
   "outputs": [
    {
     "name": "stdout",
     "output_type": "stream",
     "text": [
      "Requirement already satisfied: matplotlib in c:\\users\\tanvi\\anaconda3\\envs\\dissertation\\lib\\site-packages (3.7.2)\n",
      "Requirement already satisfied: contourpy>=1.0.1 in c:\\users\\tanvi\\anaconda3\\envs\\dissertation\\lib\\site-packages (from matplotlib) (1.1.0)\n",
      "Requirement already satisfied: cycler>=0.10 in c:\\users\\tanvi\\anaconda3\\envs\\dissertation\\lib\\site-packages (from matplotlib) (0.11.0)\n",
      "Requirement already satisfied: fonttools>=4.22.0 in c:\\users\\tanvi\\anaconda3\\envs\\dissertation\\lib\\site-packages (from matplotlib) (4.42.1)\n",
      "Requirement already satisfied: kiwisolver>=1.0.1 in c:\\users\\tanvi\\anaconda3\\envs\\dissertation\\lib\\site-packages (from matplotlib) (1.4.5)\n",
      "Requirement already satisfied: numpy>=1.20 in c:\\users\\tanvi\\anaconda3\\envs\\dissertation\\lib\\site-packages (from matplotlib) (1.24.4)\n",
      "Requirement already satisfied: packaging>=20.0 in c:\\users\\tanvi\\anaconda3\\envs\\dissertation\\lib\\site-packages (from matplotlib) (23.0)\n",
      "Requirement already satisfied: pillow>=6.2.0 in c:\\users\\tanvi\\anaconda3\\envs\\dissertation\\lib\\site-packages (from matplotlib) (10.0.0)\n",
      "Requirement already satisfied: pyparsing<3.1,>=2.3.1 in c:\\users\\tanvi\\anaconda3\\envs\\dissertation\\lib\\site-packages (from matplotlib) (3.0.9)\n",
      "Requirement already satisfied: python-dateutil>=2.7 in c:\\users\\tanvi\\anaconda3\\envs\\dissertation\\lib\\site-packages (from matplotlib) (2.8.2)\n",
      "Requirement already satisfied: importlib-resources>=3.2.0 in c:\\users\\tanvi\\anaconda3\\envs\\dissertation\\lib\\site-packages (from matplotlib) (6.0.1)\n",
      "Requirement already satisfied: zipp>=3.1.0 in c:\\users\\tanvi\\anaconda3\\envs\\dissertation\\lib\\site-packages (from importlib-resources>=3.2.0->matplotlib) (3.11.0)\n",
      "Requirement already satisfied: six>=1.5 in c:\\users\\tanvi\\anaconda3\\envs\\dissertation\\lib\\site-packages (from python-dateutil>=2.7->matplotlib) (1.16.0)\n",
      "Requirement already satisfied: imbalanced-learn in c:\\users\\tanvi\\anaconda3\\envs\\dissertation\\lib\\site-packages (0.11.0)\n",
      "Requirement already satisfied: numpy>=1.17.3 in c:\\users\\tanvi\\anaconda3\\envs\\dissertation\\lib\\site-packages (from imbalanced-learn) (1.24.4)\n",
      "Requirement already satisfied: scipy>=1.5.0 in c:\\users\\tanvi\\anaconda3\\envs\\dissertation\\lib\\site-packages (from imbalanced-learn) (1.10.1)\n",
      "Requirement already satisfied: scikit-learn>=1.0.2 in c:\\users\\tanvi\\anaconda3\\envs\\dissertation\\lib\\site-packages (from imbalanced-learn) (1.3.0)\n",
      "Requirement already satisfied: joblib>=1.1.1 in c:\\users\\tanvi\\anaconda3\\envs\\dissertation\\lib\\site-packages (from imbalanced-learn) (1.3.1)\n",
      "Requirement already satisfied: threadpoolctl>=2.0.0 in c:\\users\\tanvi\\anaconda3\\envs\\dissertation\\lib\\site-packages (from imbalanced-learn) (3.2.0)\n",
      "Requirement already satisfied: ipywidgets in c:\\users\\tanvi\\anaconda3\\envs\\dissertation\\lib\\site-packages (8.1.0)\n",
      "Requirement already satisfied: comm>=0.1.3 in c:\\users\\tanvi\\anaconda3\\envs\\dissertation\\lib\\site-packages (from ipywidgets) (0.1.4)\n",
      "Requirement already satisfied: ipython>=6.1.0 in c:\\users\\tanvi\\anaconda3\\envs\\dissertation\\lib\\site-packages (from ipywidgets) (8.12.0)\n",
      "Requirement already satisfied: traitlets>=4.3.1 in c:\\users\\tanvi\\anaconda3\\envs\\dissertation\\lib\\site-packages (from ipywidgets) (5.7.1)\n",
      "Requirement already satisfied: widgetsnbextension~=4.0.7 in c:\\users\\tanvi\\anaconda3\\envs\\dissertation\\lib\\site-packages (from ipywidgets) (4.0.8)\n",
      "Requirement already satisfied: jupyterlab-widgets~=3.0.7 in c:\\users\\tanvi\\anaconda3\\envs\\dissertation\\lib\\site-packages (from ipywidgets) (3.0.8)\n",
      "Requirement already satisfied: backcall in c:\\users\\tanvi\\anaconda3\\envs\\dissertation\\lib\\site-packages (from ipython>=6.1.0->ipywidgets) (0.2.0)\n",
      "Requirement already satisfied: decorator in c:\\users\\tanvi\\anaconda3\\envs\\dissertation\\lib\\site-packages (from ipython>=6.1.0->ipywidgets) (5.1.1)\n",
      "Requirement already satisfied: jedi>=0.16 in c:\\users\\tanvi\\anaconda3\\envs\\dissertation\\lib\\site-packages (from ipython>=6.1.0->ipywidgets) (0.18.1)\n",
      "Requirement already satisfied: matplotlib-inline in c:\\users\\tanvi\\anaconda3\\envs\\dissertation\\lib\\site-packages (from ipython>=6.1.0->ipywidgets) (0.1.6)\n",
      "Requirement already satisfied: pickleshare in c:\\users\\tanvi\\anaconda3\\envs\\dissertation\\lib\\site-packages (from ipython>=6.1.0->ipywidgets) (0.7.5)\n",
      "Requirement already satisfied: prompt-toolkit!=3.0.37,<3.1.0,>=3.0.30 in c:\\users\\tanvi\\anaconda3\\envs\\dissertation\\lib\\site-packages (from ipython>=6.1.0->ipywidgets) (3.0.36)\n",
      "Requirement already satisfied: pygments>=2.4.0 in c:\\users\\tanvi\\anaconda3\\envs\\dissertation\\lib\\site-packages (from ipython>=6.1.0->ipywidgets) (2.15.1)\n",
      "Requirement already satisfied: stack-data in c:\\users\\tanvi\\anaconda3\\envs\\dissertation\\lib\\site-packages (from ipython>=6.1.0->ipywidgets) (0.2.0)\n",
      "Requirement already satisfied: typing-extensions in c:\\users\\tanvi\\anaconda3\\envs\\dissertation\\lib\\site-packages (from ipython>=6.1.0->ipywidgets) (4.7.1)\n",
      "Requirement already satisfied: colorama in c:\\users\\tanvi\\anaconda3\\envs\\dissertation\\lib\\site-packages (from ipython>=6.1.0->ipywidgets) (0.4.6)\n",
      "Requirement already satisfied: parso<0.9.0,>=0.8.0 in c:\\users\\tanvi\\anaconda3\\envs\\dissertation\\lib\\site-packages (from jedi>=0.16->ipython>=6.1.0->ipywidgets) (0.8.3)\n",
      "Requirement already satisfied: wcwidth in c:\\users\\tanvi\\anaconda3\\envs\\dissertation\\lib\\site-packages (from prompt-toolkit!=3.0.37,<3.1.0,>=3.0.30->ipython>=6.1.0->ipywidgets) (0.2.5)\n",
      "Requirement already satisfied: executing in c:\\users\\tanvi\\anaconda3\\envs\\dissertation\\lib\\site-packages (from stack-data->ipython>=6.1.0->ipywidgets) (0.8.3)\n",
      "Requirement already satisfied: asttokens in c:\\users\\tanvi\\anaconda3\\envs\\dissertation\\lib\\site-packages (from stack-data->ipython>=6.1.0->ipywidgets) (2.0.5)\n",
      "Requirement already satisfied: pure-eval in c:\\users\\tanvi\\anaconda3\\envs\\dissertation\\lib\\site-packages (from stack-data->ipython>=6.1.0->ipywidgets) (0.2.2)\n",
      "Requirement already satisfied: six in c:\\users\\tanvi\\anaconda3\\envs\\dissertation\\lib\\site-packages (from asttokens->stack-data->ipython>=6.1.0->ipywidgets) (1.16.0)\n",
      "Requirement already satisfied: optuna in c:\\users\\tanvi\\anaconda3\\envs\\dissertation\\lib\\site-packages (3.3.0)\n",
      "Requirement already satisfied: alembic>=1.5.0 in c:\\users\\tanvi\\anaconda3\\envs\\dissertation\\lib\\site-packages (from optuna) (1.12.0)\n",
      "Requirement already satisfied: cmaes>=0.10.0 in c:\\users\\tanvi\\anaconda3\\envs\\dissertation\\lib\\site-packages (from optuna) (0.10.0)\n",
      "Requirement already satisfied: colorlog in c:\\users\\tanvi\\anaconda3\\envs\\dissertation\\lib\\site-packages (from optuna) (6.7.0)\n",
      "Requirement already satisfied: numpy in c:\\users\\tanvi\\anaconda3\\envs\\dissertation\\lib\\site-packages (from optuna) (1.24.4)\n",
      "Requirement already satisfied: packaging>=20.0 in c:\\users\\tanvi\\anaconda3\\envs\\dissertation\\lib\\site-packages (from optuna) (23.0)\n",
      "Requirement already satisfied: sqlalchemy>=1.3.0 in c:\\users\\tanvi\\anaconda3\\envs\\dissertation\\lib\\site-packages (from optuna) (2.0.20)\n",
      "Requirement already satisfied: tqdm in c:\\users\\tanvi\\anaconda3\\envs\\dissertation\\lib\\site-packages (from optuna) (4.65.0)\n",
      "Requirement already satisfied: PyYAML in c:\\users\\tanvi\\anaconda3\\envs\\dissertation\\lib\\site-packages (from optuna) (6.0.1)\n",
      "Requirement already satisfied: Mako in c:\\users\\tanvi\\anaconda3\\envs\\dissertation\\lib\\site-packages (from alembic>=1.5.0->optuna) (1.2.4)\n",
      "Requirement already satisfied: typing-extensions>=4 in c:\\users\\tanvi\\anaconda3\\envs\\dissertation\\lib\\site-packages (from alembic>=1.5.0->optuna) (4.7.1)\n",
      "Requirement already satisfied: importlib-metadata in c:\\users\\tanvi\\anaconda3\\envs\\dissertation\\lib\\site-packages (from alembic>=1.5.0->optuna) (6.0.0)\n",
      "Requirement already satisfied: importlib-resources in c:\\users\\tanvi\\anaconda3\\envs\\dissertation\\lib\\site-packages (from alembic>=1.5.0->optuna) (6.0.1)\n",
      "Requirement already satisfied: greenlet!=0.4.17 in c:\\users\\tanvi\\anaconda3\\envs\\dissertation\\lib\\site-packages (from sqlalchemy>=1.3.0->optuna) (2.0.2)\n",
      "Requirement already satisfied: colorama in c:\\users\\tanvi\\anaconda3\\envs\\dissertation\\lib\\site-packages (from colorlog->optuna) (0.4.6)\n",
      "Requirement already satisfied: zipp>=0.5 in c:\\users\\tanvi\\anaconda3\\envs\\dissertation\\lib\\site-packages (from importlib-metadata->alembic>=1.5.0->optuna) (3.11.0)\n",
      "Requirement already satisfied: MarkupSafe>=0.9.2 in c:\\users\\tanvi\\anaconda3\\envs\\dissertation\\lib\\site-packages (from Mako->alembic>=1.5.0->optuna) (2.1.3)\n",
      "Requirement already satisfied: transformers in c:\\users\\tanvi\\anaconda3\\envs\\dissertation\\lib\\site-packages (4.33.1)\n",
      "Requirement already satisfied: filelock in c:\\users\\tanvi\\anaconda3\\envs\\dissertation\\lib\\site-packages (from transformers) (3.12.2)\n",
      "Requirement already satisfied: huggingface-hub<1.0,>=0.15.1 in c:\\users\\tanvi\\anaconda3\\envs\\dissertation\\lib\\site-packages (from transformers) (0.16.4)\n",
      "Requirement already satisfied: numpy>=1.17 in c:\\users\\tanvi\\anaconda3\\envs\\dissertation\\lib\\site-packages (from transformers) (1.24.4)\n",
      "Requirement already satisfied: packaging>=20.0 in c:\\users\\tanvi\\anaconda3\\envs\\dissertation\\lib\\site-packages (from transformers) (23.0)\n",
      "Requirement already satisfied: pyyaml>=5.1 in c:\\users\\tanvi\\anaconda3\\envs\\dissertation\\lib\\site-packages (from transformers) (6.0.1)\n",
      "Requirement already satisfied: regex!=2019.12.17 in c:\\users\\tanvi\\anaconda3\\envs\\dissertation\\lib\\site-packages (from transformers) (2023.6.3)\n",
      "Requirement already satisfied: requests in c:\\users\\tanvi\\anaconda3\\envs\\dissertation\\lib\\site-packages (from transformers) (2.31.0)\n",
      "Requirement already satisfied: tokenizers!=0.11.3,<0.14,>=0.11.1 in c:\\users\\tanvi\\anaconda3\\envs\\dissertation\\lib\\site-packages (from transformers) (0.13.3)\n",
      "Requirement already satisfied: safetensors>=0.3.1 in c:\\users\\tanvi\\anaconda3\\envs\\dissertation\\lib\\site-packages (from transformers) (0.3.1)\n",
      "Requirement already satisfied: tqdm>=4.27 in c:\\users\\tanvi\\anaconda3\\envs\\dissertation\\lib\\site-packages (from transformers) (4.65.0)\n",
      "Requirement already satisfied: fsspec in c:\\users\\tanvi\\anaconda3\\envs\\dissertation\\lib\\site-packages (from huggingface-hub<1.0,>=0.15.1->transformers) (2023.6.0)\n",
      "Requirement already satisfied: typing-extensions>=3.7.4.3 in c:\\users\\tanvi\\anaconda3\\envs\\dissertation\\lib\\site-packages (from huggingface-hub<1.0,>=0.15.1->transformers) (4.7.1)\n",
      "Requirement already satisfied: colorama in c:\\users\\tanvi\\anaconda3\\envs\\dissertation\\lib\\site-packages (from tqdm>=4.27->transformers) (0.4.6)\n",
      "Requirement already satisfied: charset-normalizer<4,>=2 in c:\\users\\tanvi\\anaconda3\\envs\\dissertation\\lib\\site-packages (from requests->transformers) (3.2.0)\n",
      "Requirement already satisfied: idna<4,>=2.5 in c:\\users\\tanvi\\anaconda3\\envs\\dissertation\\lib\\site-packages (from requests->transformers) (3.4)\n",
      "Requirement already satisfied: urllib3<3,>=1.21.1 in c:\\users\\tanvi\\anaconda3\\envs\\dissertation\\lib\\site-packages (from requests->transformers) (1.26.16)\n",
      "Requirement already satisfied: certifi>=2017.4.17 in c:\\users\\tanvi\\anaconda3\\envs\\dissertation\\lib\\site-packages (from requests->transformers) (2023.7.22)\n",
      "Requirement already satisfied: accelerate in c:\\users\\tanvi\\anaconda3\\envs\\dissertation\\lib\\site-packages (0.22.0)\n",
      "Requirement already satisfied: numpy>=1.17 in c:\\users\\tanvi\\anaconda3\\envs\\dissertation\\lib\\site-packages (from accelerate) (1.24.4)\n",
      "Requirement already satisfied: packaging>=20.0 in c:\\users\\tanvi\\anaconda3\\envs\\dissertation\\lib\\site-packages (from accelerate) (23.0)\n",
      "Requirement already satisfied: psutil in c:\\users\\tanvi\\anaconda3\\envs\\dissertation\\lib\\site-packages (from accelerate) (5.9.0)\n",
      "Requirement already satisfied: pyyaml in c:\\users\\tanvi\\anaconda3\\envs\\dissertation\\lib\\site-packages (from accelerate) (6.0.1)\n",
      "Requirement already satisfied: torch>=1.10.0 in c:\\users\\tanvi\\anaconda3\\envs\\dissertation\\lib\\site-packages (from accelerate) (2.0.1)\n",
      "Requirement already satisfied: filelock in c:\\users\\tanvi\\anaconda3\\envs\\dissertation\\lib\\site-packages (from torch>=1.10.0->accelerate) (3.12.2)\n",
      "Requirement already satisfied: typing-extensions in c:\\users\\tanvi\\anaconda3\\envs\\dissertation\\lib\\site-packages (from torch>=1.10.0->accelerate) (4.7.1)\n",
      "Requirement already satisfied: sympy in c:\\users\\tanvi\\anaconda3\\envs\\dissertation\\lib\\site-packages (from torch>=1.10.0->accelerate) (1.12)\n",
      "Requirement already satisfied: networkx in c:\\users\\tanvi\\anaconda3\\envs\\dissertation\\lib\\site-packages (from torch>=1.10.0->accelerate) (3.1)\n",
      "Requirement already satisfied: jinja2 in c:\\users\\tanvi\\anaconda3\\envs\\dissertation\\lib\\site-packages (from torch>=1.10.0->accelerate) (3.1.2)\n",
      "Requirement already satisfied: MarkupSafe>=2.0 in c:\\users\\tanvi\\anaconda3\\envs\\dissertation\\lib\\site-packages (from jinja2->torch>=1.10.0->accelerate) (2.1.3)\n",
      "Requirement already satisfied: mpmath>=0.19 in c:\\users\\tanvi\\anaconda3\\envs\\dissertation\\lib\\site-packages (from sympy->torch>=1.10.0->accelerate) (1.3.0)\n",
      "Requirement already satisfied: gensim in c:\\users\\tanvi\\anaconda3\\envs\\dissertation\\lib\\site-packages (4.3.2)\n",
      "Requirement already satisfied: numpy>=1.18.5 in c:\\users\\tanvi\\anaconda3\\envs\\dissertation\\lib\\site-packages (from gensim) (1.24.4)\n",
      "Requirement already satisfied: scipy>=1.7.0 in c:\\users\\tanvi\\anaconda3\\envs\\dissertation\\lib\\site-packages (from gensim) (1.10.1)\n",
      "Requirement already satisfied: smart-open>=1.8.1 in c:\\users\\tanvi\\anaconda3\\envs\\dissertation\\lib\\site-packages (from gensim) (6.4.0)\n",
      "Requirement already satisfied: nltk in c:\\users\\tanvi\\anaconda3\\envs\\dissertation\\lib\\site-packages (3.8.1)\n",
      "Requirement already satisfied: click in c:\\users\\tanvi\\anaconda3\\envs\\dissertation\\lib\\site-packages (from nltk) (8.1.6)\n",
      "Requirement already satisfied: joblib in c:\\users\\tanvi\\anaconda3\\envs\\dissertation\\lib\\site-packages (from nltk) (1.3.1)\n",
      "Requirement already satisfied: regex>=2021.8.3 in c:\\users\\tanvi\\anaconda3\\envs\\dissertation\\lib\\site-packages (from nltk) (2023.6.3)\n",
      "Requirement already satisfied: tqdm in c:\\users\\tanvi\\anaconda3\\envs\\dissertation\\lib\\site-packages (from nltk) (4.65.0)\n",
      "Requirement already satisfied: colorama in c:\\users\\tanvi\\anaconda3\\envs\\dissertation\\lib\\site-packages (from click->nltk) (0.4.6)\n"
     ]
    }
   ],
   "source": [
    "!pip install matplotlib\n",
    "!pip install imbalanced-learn\n",
    "!pip install --upgrade ipywidgets\n",
    "!pip install optuna\n",
    "!pip install transformers --upgrade\n",
    "!pip install accelerate --upgrade\n",
    "!pip install gensim\n",
    "!pip install nltk"
   ]
  },
  {
   "cell_type": "markdown",
   "metadata": {},
   "source": [
    "Importing all Libraries needed for implemetation "
   ]
  },
  {
   "cell_type": "code",
   "execution_count": 3,
   "metadata": {},
   "outputs": [],
   "source": [
    "import pandas as pd\n",
    "import numpy as np\n",
    "import nltk\n",
    "import matplotlib.pyplot as plt\n",
    "import re\n",
    "import string\n",
    "import nltk\n",
    "import pandas as pd\n",
    "from nltk.corpus import stopwords\n",
    "from nltk.tokenize import word_tokenize\n",
    "from nltk.stem import WordNetLemmatizer\n",
    "from sklearn.model_selection import train_test_split\n",
    "from tqdm.notebook import tqdm\n",
    "from tqdm import tqdm\n",
    "import transformers\n",
    "import torch\n",
    "from sklearn.feature_extraction.text import TfidfVectorizer\n",
    "from sklearn.linear_model import LogisticRegression\n",
    "from sklearn.metrics import accuracy_score, classification_report, precision_recall_fscore_support\n",
    "from sklearn.metrics import roc_curve, roc_auc_score\n",
    "from sklearn.model_selection import GridSearchCV\n",
    "from sklearn.metrics import precision_recall_curve, auc\n",
    "from sklearn.svm import SVC\n",
    "from tensorflow.keras.preprocessing.text import Tokenizer\n",
    "from tensorflow.keras.preprocessing.sequence import pad_sequences\n",
    "from tensorflow.keras.models import Sequential\n",
    "from tensorflow.keras.layers import Embedding, LSTM, Dense, Dropout\n",
    "from transformers import BertForSequenceClassification, BertTokenizer, Trainer, TrainingArguments\n",
    "from datasets import Dataset\n",
    "\n",
    "\n",
    "\n"
   ]
  },
  {
   "cell_type": "markdown",
   "metadata": {},
   "source": [
    "Load CSV files:\n",
    "1. Admissions.csv\n",
    "2. Discharge.csv\n",
    "3. Radiology.csv"
   ]
  },
  {
   "cell_type": "code",
   "execution_count": 4,
   "metadata": {},
   "outputs": [],
   "source": [
    "#Reading the admissions data\n",
    "df_adm = pd.read_csv(r\"Initial dataset\\admissions.csv\")\n",
    "#Reading the discharge data\n",
    "df_ds = pd.read_csv(r\"Initial dataset\\discharge.csv\")\n",
    "#Reading the discharge data\n",
    "df_radiology = pd.read_csv(r\"Initial dataset\\radiology.csv\")"
   ]
  },
  {
   "cell_type": "code",
   "execution_count": 5,
   "metadata": {},
   "outputs": [
    {
     "data": {
      "text/html": [
       "<div>\n",
       "<style scoped>\n",
       "    .dataframe tbody tr th:only-of-type {\n",
       "        vertical-align: middle;\n",
       "    }\n",
       "\n",
       "    .dataframe tbody tr th {\n",
       "        vertical-align: top;\n",
       "    }\n",
       "\n",
       "    .dataframe thead th {\n",
       "        text-align: right;\n",
       "    }\n",
       "</style>\n",
       "<table border=\"1\" class=\"dataframe\">\n",
       "  <thead>\n",
       "    <tr style=\"text-align: right;\">\n",
       "      <th></th>\n",
       "      <th>subject_id</th>\n",
       "      <th>hadm_id</th>\n",
       "      <th>admittime</th>\n",
       "      <th>dischtime</th>\n",
       "      <th>deathtime</th>\n",
       "      <th>admission_type</th>\n",
       "      <th>admit_provider_id</th>\n",
       "      <th>admission_location</th>\n",
       "      <th>discharge_location</th>\n",
       "      <th>insurance</th>\n",
       "      <th>language</th>\n",
       "      <th>marital_status</th>\n",
       "      <th>race</th>\n",
       "      <th>edregtime</th>\n",
       "      <th>edouttime</th>\n",
       "      <th>hospital_expire_flag</th>\n",
       "    </tr>\n",
       "  </thead>\n",
       "  <tbody>\n",
       "    <tr>\n",
       "      <th>0</th>\n",
       "      <td>10000032</td>\n",
       "      <td>22595853</td>\n",
       "      <td>2180-05-06 22:23:00</td>\n",
       "      <td>2180-05-07 17:15:00</td>\n",
       "      <td>NaN</td>\n",
       "      <td>URGENT</td>\n",
       "      <td>P874LG</td>\n",
       "      <td>TRANSFER FROM HOSPITAL</td>\n",
       "      <td>HOME</td>\n",
       "      <td>Other</td>\n",
       "      <td>ENGLISH</td>\n",
       "      <td>WIDOWED</td>\n",
       "      <td>WHITE</td>\n",
       "      <td>2180-05-06 19:17:00</td>\n",
       "      <td>2180-05-06 23:30:00</td>\n",
       "      <td>0</td>\n",
       "    </tr>\n",
       "    <tr>\n",
       "      <th>1</th>\n",
       "      <td>10000032</td>\n",
       "      <td>22841357</td>\n",
       "      <td>2180-06-26 18:27:00</td>\n",
       "      <td>2180-06-27 18:49:00</td>\n",
       "      <td>NaN</td>\n",
       "      <td>EW EMER.</td>\n",
       "      <td>P09Q6Y</td>\n",
       "      <td>EMERGENCY ROOM</td>\n",
       "      <td>HOME</td>\n",
       "      <td>Medicaid</td>\n",
       "      <td>ENGLISH</td>\n",
       "      <td>WIDOWED</td>\n",
       "      <td>WHITE</td>\n",
       "      <td>2180-06-26 15:54:00</td>\n",
       "      <td>2180-06-26 21:31:00</td>\n",
       "      <td>0</td>\n",
       "    </tr>\n",
       "    <tr>\n",
       "      <th>2</th>\n",
       "      <td>10000032</td>\n",
       "      <td>25742920</td>\n",
       "      <td>2180-08-05 23:44:00</td>\n",
       "      <td>2180-08-07 17:50:00</td>\n",
       "      <td>NaN</td>\n",
       "      <td>EW EMER.</td>\n",
       "      <td>P60CC5</td>\n",
       "      <td>EMERGENCY ROOM</td>\n",
       "      <td>HOSPICE</td>\n",
       "      <td>Medicaid</td>\n",
       "      <td>ENGLISH</td>\n",
       "      <td>WIDOWED</td>\n",
       "      <td>WHITE</td>\n",
       "      <td>2180-08-05 20:58:00</td>\n",
       "      <td>2180-08-06 01:44:00</td>\n",
       "      <td>0</td>\n",
       "    </tr>\n",
       "    <tr>\n",
       "      <th>3</th>\n",
       "      <td>10000032</td>\n",
       "      <td>29079034</td>\n",
       "      <td>2180-07-23 12:35:00</td>\n",
       "      <td>2180-07-25 17:55:00</td>\n",
       "      <td>NaN</td>\n",
       "      <td>EW EMER.</td>\n",
       "      <td>P30KEH</td>\n",
       "      <td>EMERGENCY ROOM</td>\n",
       "      <td>HOME</td>\n",
       "      <td>Medicaid</td>\n",
       "      <td>ENGLISH</td>\n",
       "      <td>WIDOWED</td>\n",
       "      <td>WHITE</td>\n",
       "      <td>2180-07-23 05:54:00</td>\n",
       "      <td>2180-07-23 14:00:00</td>\n",
       "      <td>0</td>\n",
       "    </tr>\n",
       "    <tr>\n",
       "      <th>4</th>\n",
       "      <td>10000068</td>\n",
       "      <td>25022803</td>\n",
       "      <td>2160-03-03 23:16:00</td>\n",
       "      <td>2160-03-04 06:26:00</td>\n",
       "      <td>NaN</td>\n",
       "      <td>EU OBSERVATION</td>\n",
       "      <td>P51VDL</td>\n",
       "      <td>EMERGENCY ROOM</td>\n",
       "      <td>NaN</td>\n",
       "      <td>Other</td>\n",
       "      <td>ENGLISH</td>\n",
       "      <td>SINGLE</td>\n",
       "      <td>WHITE</td>\n",
       "      <td>2160-03-03 21:55:00</td>\n",
       "      <td>2160-03-04 06:26:00</td>\n",
       "      <td>0</td>\n",
       "    </tr>\n",
       "  </tbody>\n",
       "</table>\n",
       "</div>"
      ],
      "text/plain": [
       "   subject_id   hadm_id            admittime            dischtime deathtime  \\\n",
       "0    10000032  22595853  2180-05-06 22:23:00  2180-05-07 17:15:00       NaN   \n",
       "1    10000032  22841357  2180-06-26 18:27:00  2180-06-27 18:49:00       NaN   \n",
       "2    10000032  25742920  2180-08-05 23:44:00  2180-08-07 17:50:00       NaN   \n",
       "3    10000032  29079034  2180-07-23 12:35:00  2180-07-25 17:55:00       NaN   \n",
       "4    10000068  25022803  2160-03-03 23:16:00  2160-03-04 06:26:00       NaN   \n",
       "\n",
       "   admission_type admit_provider_id      admission_location  \\\n",
       "0          URGENT            P874LG  TRANSFER FROM HOSPITAL   \n",
       "1        EW EMER.            P09Q6Y          EMERGENCY ROOM   \n",
       "2        EW EMER.            P60CC5          EMERGENCY ROOM   \n",
       "3        EW EMER.            P30KEH          EMERGENCY ROOM   \n",
       "4  EU OBSERVATION            P51VDL          EMERGENCY ROOM   \n",
       "\n",
       "  discharge_location insurance language marital_status   race  \\\n",
       "0               HOME     Other  ENGLISH        WIDOWED  WHITE   \n",
       "1               HOME  Medicaid  ENGLISH        WIDOWED  WHITE   \n",
       "2            HOSPICE  Medicaid  ENGLISH        WIDOWED  WHITE   \n",
       "3               HOME  Medicaid  ENGLISH        WIDOWED  WHITE   \n",
       "4                NaN     Other  ENGLISH         SINGLE  WHITE   \n",
       "\n",
       "             edregtime            edouttime  hospital_expire_flag  \n",
       "0  2180-05-06 19:17:00  2180-05-06 23:30:00                     0  \n",
       "1  2180-06-26 15:54:00  2180-06-26 21:31:00                     0  \n",
       "2  2180-08-05 20:58:00  2180-08-06 01:44:00                     0  \n",
       "3  2180-07-23 05:54:00  2180-07-23 14:00:00                     0  \n",
       "4  2160-03-03 21:55:00  2160-03-04 06:26:00                     0  "
      ]
     },
     "execution_count": 5,
     "metadata": {},
     "output_type": "execute_result"
    }
   ],
   "source": [
    "df_adm.head()"
   ]
  },
  {
   "cell_type": "code",
   "execution_count": 6,
   "metadata": {},
   "outputs": [
    {
     "data": {
      "text/html": [
       "<div>\n",
       "<style scoped>\n",
       "    .dataframe tbody tr th:only-of-type {\n",
       "        vertical-align: middle;\n",
       "    }\n",
       "\n",
       "    .dataframe tbody tr th {\n",
       "        vertical-align: top;\n",
       "    }\n",
       "\n",
       "    .dataframe thead th {\n",
       "        text-align: right;\n",
       "    }\n",
       "</style>\n",
       "<table border=\"1\" class=\"dataframe\">\n",
       "  <thead>\n",
       "    <tr style=\"text-align: right;\">\n",
       "      <th></th>\n",
       "      <th>note_id</th>\n",
       "      <th>subject_id</th>\n",
       "      <th>hadm_id</th>\n",
       "      <th>note_type</th>\n",
       "      <th>note_seq</th>\n",
       "      <th>charttime</th>\n",
       "      <th>storetime</th>\n",
       "      <th>text</th>\n",
       "    </tr>\n",
       "  </thead>\n",
       "  <tbody>\n",
       "    <tr>\n",
       "      <th>0</th>\n",
       "      <td>10000032-DS-21</td>\n",
       "      <td>10000032</td>\n",
       "      <td>22595853</td>\n",
       "      <td>DS</td>\n",
       "      <td>21</td>\n",
       "      <td>2180-05-07 00:00:00</td>\n",
       "      <td>2180-05-09 15:26:00</td>\n",
       "      <td>\\nName:  ___                     Unit No:   _...</td>\n",
       "    </tr>\n",
       "    <tr>\n",
       "      <th>1</th>\n",
       "      <td>10000032-DS-22</td>\n",
       "      <td>10000032</td>\n",
       "      <td>22841357</td>\n",
       "      <td>DS</td>\n",
       "      <td>22</td>\n",
       "      <td>2180-06-27 00:00:00</td>\n",
       "      <td>2180-07-01 10:15:00</td>\n",
       "      <td>\\nName:  ___                     Unit No:   _...</td>\n",
       "    </tr>\n",
       "    <tr>\n",
       "      <th>2</th>\n",
       "      <td>10000032-DS-23</td>\n",
       "      <td>10000032</td>\n",
       "      <td>29079034</td>\n",
       "      <td>DS</td>\n",
       "      <td>23</td>\n",
       "      <td>2180-07-25 00:00:00</td>\n",
       "      <td>2180-07-25 21:42:00</td>\n",
       "      <td>\\nName:  ___                     Unit No:   _...</td>\n",
       "    </tr>\n",
       "    <tr>\n",
       "      <th>3</th>\n",
       "      <td>10000032-DS-24</td>\n",
       "      <td>10000032</td>\n",
       "      <td>25742920</td>\n",
       "      <td>DS</td>\n",
       "      <td>24</td>\n",
       "      <td>2180-08-07 00:00:00</td>\n",
       "      <td>2180-08-10 05:43:00</td>\n",
       "      <td>\\nName:  ___                     Unit No:   _...</td>\n",
       "    </tr>\n",
       "    <tr>\n",
       "      <th>4</th>\n",
       "      <td>10000084-DS-17</td>\n",
       "      <td>10000084</td>\n",
       "      <td>23052089</td>\n",
       "      <td>DS</td>\n",
       "      <td>17</td>\n",
       "      <td>2160-11-25 00:00:00</td>\n",
       "      <td>2160-11-25 15:09:00</td>\n",
       "      <td>\\nName:  ___                    Unit No:   __...</td>\n",
       "    </tr>\n",
       "  </tbody>\n",
       "</table>\n",
       "</div>"
      ],
      "text/plain": [
       "          note_id  subject_id   hadm_id note_type  note_seq  \\\n",
       "0  10000032-DS-21    10000032  22595853        DS        21   \n",
       "1  10000032-DS-22    10000032  22841357        DS        22   \n",
       "2  10000032-DS-23    10000032  29079034        DS        23   \n",
       "3  10000032-DS-24    10000032  25742920        DS        24   \n",
       "4  10000084-DS-17    10000084  23052089        DS        17   \n",
       "\n",
       "             charttime            storetime  \\\n",
       "0  2180-05-07 00:00:00  2180-05-09 15:26:00   \n",
       "1  2180-06-27 00:00:00  2180-07-01 10:15:00   \n",
       "2  2180-07-25 00:00:00  2180-07-25 21:42:00   \n",
       "3  2180-08-07 00:00:00  2180-08-10 05:43:00   \n",
       "4  2160-11-25 00:00:00  2160-11-25 15:09:00   \n",
       "\n",
       "                                                text  \n",
       "0   \\nName:  ___                     Unit No:   _...  \n",
       "1   \\nName:  ___                     Unit No:   _...  \n",
       "2   \\nName:  ___                     Unit No:   _...  \n",
       "3   \\nName:  ___                     Unit No:   _...  \n",
       "4   \\nName:  ___                    Unit No:   __...  "
      ]
     },
     "execution_count": 6,
     "metadata": {},
     "output_type": "execute_result"
    }
   ],
   "source": [
    "df_ds.head()"
   ]
  },
  {
   "cell_type": "code",
   "execution_count": 7,
   "metadata": {},
   "outputs": [
    {
     "data": {
      "text/html": [
       "<div>\n",
       "<style scoped>\n",
       "    .dataframe tbody tr th:only-of-type {\n",
       "        vertical-align: middle;\n",
       "    }\n",
       "\n",
       "    .dataframe tbody tr th {\n",
       "        vertical-align: top;\n",
       "    }\n",
       "\n",
       "    .dataframe thead th {\n",
       "        text-align: right;\n",
       "    }\n",
       "</style>\n",
       "<table border=\"1\" class=\"dataframe\">\n",
       "  <thead>\n",
       "    <tr style=\"text-align: right;\">\n",
       "      <th></th>\n",
       "      <th>note_id</th>\n",
       "      <th>subject_id</th>\n",
       "      <th>hadm_id</th>\n",
       "      <th>note_type</th>\n",
       "      <th>note_seq</th>\n",
       "      <th>charttime</th>\n",
       "      <th>storetime</th>\n",
       "      <th>text</th>\n",
       "    </tr>\n",
       "  </thead>\n",
       "  <tbody>\n",
       "    <tr>\n",
       "      <th>0</th>\n",
       "      <td>10000032-RR-14</td>\n",
       "      <td>10000032</td>\n",
       "      <td>22595853.0</td>\n",
       "      <td>RR</td>\n",
       "      <td>14</td>\n",
       "      <td>2180-05-06 21:19:00</td>\n",
       "      <td>2180-05-06 23:32:00</td>\n",
       "      <td>EXAMINATION:  CHEST (PA AND LAT)\\n\\nINDICATION...</td>\n",
       "    </tr>\n",
       "    <tr>\n",
       "      <th>1</th>\n",
       "      <td>10000032-RR-15</td>\n",
       "      <td>10000032</td>\n",
       "      <td>22595853.0</td>\n",
       "      <td>RR</td>\n",
       "      <td>15</td>\n",
       "      <td>2180-05-06 23:00:00</td>\n",
       "      <td>2180-05-06 23:26:00</td>\n",
       "      <td>EXAMINATION:  LIVER OR GALLBLADDER US (SINGLE ...</td>\n",
       "    </tr>\n",
       "    <tr>\n",
       "      <th>2</th>\n",
       "      <td>10000032-RR-16</td>\n",
       "      <td>10000032</td>\n",
       "      <td>22595853.0</td>\n",
       "      <td>RR</td>\n",
       "      <td>16</td>\n",
       "      <td>2180-05-07 09:55:00</td>\n",
       "      <td>2180-05-07 11:15:00</td>\n",
       "      <td>INDICATION:  ___ HCV cirrhosis c/b ascites, hi...</td>\n",
       "    </tr>\n",
       "    <tr>\n",
       "      <th>3</th>\n",
       "      <td>10000032-RR-18</td>\n",
       "      <td>10000032</td>\n",
       "      <td>NaN</td>\n",
       "      <td>RR</td>\n",
       "      <td>18</td>\n",
       "      <td>2180-06-03 12:46:00</td>\n",
       "      <td>2180-06-03 14:01:00</td>\n",
       "      <td>EXAMINATION:  Ultrasound-guided paracentesis.\\...</td>\n",
       "    </tr>\n",
       "    <tr>\n",
       "      <th>4</th>\n",
       "      <td>10000032-RR-20</td>\n",
       "      <td>10000032</td>\n",
       "      <td>NaN</td>\n",
       "      <td>RR</td>\n",
       "      <td>20</td>\n",
       "      <td>2180-07-08 13:18:00</td>\n",
       "      <td>2180-07-08 14:15:00</td>\n",
       "      <td>EXAMINATION:  Paracentesis\\n\\nINDICATION:  ___...</td>\n",
       "    </tr>\n",
       "  </tbody>\n",
       "</table>\n",
       "</div>"
      ],
      "text/plain": [
       "          note_id  subject_id     hadm_id note_type  note_seq  \\\n",
       "0  10000032-RR-14    10000032  22595853.0        RR        14   \n",
       "1  10000032-RR-15    10000032  22595853.0        RR        15   \n",
       "2  10000032-RR-16    10000032  22595853.0        RR        16   \n",
       "3  10000032-RR-18    10000032         NaN        RR        18   \n",
       "4  10000032-RR-20    10000032         NaN        RR        20   \n",
       "\n",
       "             charttime            storetime  \\\n",
       "0  2180-05-06 21:19:00  2180-05-06 23:32:00   \n",
       "1  2180-05-06 23:00:00  2180-05-06 23:26:00   \n",
       "2  2180-05-07 09:55:00  2180-05-07 11:15:00   \n",
       "3  2180-06-03 12:46:00  2180-06-03 14:01:00   \n",
       "4  2180-07-08 13:18:00  2180-07-08 14:15:00   \n",
       "\n",
       "                                                text  \n",
       "0  EXAMINATION:  CHEST (PA AND LAT)\\n\\nINDICATION...  \n",
       "1  EXAMINATION:  LIVER OR GALLBLADDER US (SINGLE ...  \n",
       "2  INDICATION:  ___ HCV cirrhosis c/b ascites, hi...  \n",
       "3  EXAMINATION:  Ultrasound-guided paracentesis.\\...  \n",
       "4  EXAMINATION:  Paracentesis\\n\\nINDICATION:  ___...  "
      ]
     },
     "execution_count": 7,
     "metadata": {},
     "output_type": "execute_result"
    }
   ],
   "source": [
    "df_radiology.head()"
   ]
  },
  {
   "cell_type": "code",
   "execution_count": 8,
   "metadata": {},
   "outputs": [
    {
     "data": {
      "text/plain": [
       "admission_type\n",
       "EW EMER.                       149413\n",
       "EU OBSERVATION                  94776\n",
       "OBSERVATION ADMIT               52668\n",
       "URGENT                          44691\n",
       "SURGICAL SAME DAY ADMISSION     34231\n",
       "DIRECT EMER.                    19554\n",
       "DIRECT OBSERVATION              18707\n",
       "ELECTIVE                        10565\n",
       "AMBULATORY OBSERVATION           6626\n",
       "Name: count, dtype: int64"
      ]
     },
     "execution_count": 8,
     "metadata": {},
     "output_type": "execute_result"
    }
   ],
   "source": [
    "df_adm['admission_type'].value_counts()"
   ]
  },
  {
   "cell_type": "markdown",
   "metadata": {},
   "source": [
    "Data selection: The data in three datasets is processed to form a single dataset"
   ]
  },
  {
   "cell_type": "code",
   "execution_count": 9,
   "metadata": {},
   "outputs": [],
   "source": [
    "# Since SURGICAL SAME DAY ADMISSION is considered as an elective admission type replace the name to elective for better handelling of data\n",
    "df_adm['admission_type'] = df_adm['admission_type'].replace('SURGICAL SAME DAY ADMISSION', 'ELECTIVE')"
   ]
  },
  {
   "cell_type": "code",
   "execution_count": 10,
   "metadata": {},
   "outputs": [
    {
     "data": {
      "text/plain": [
       "admission_type\n",
       "EW EMER.                  149413\n",
       "EU OBSERVATION             94776\n",
       "OBSERVATION ADMIT          52668\n",
       "ELECTIVE                   44796\n",
       "URGENT                     44691\n",
       "DIRECT EMER.               19554\n",
       "DIRECT OBSERVATION         18707\n",
       "AMBULATORY OBSERVATION      6626\n",
       "Name: count, dtype: int64"
      ]
     },
     "execution_count": 10,
     "metadata": {},
     "output_type": "execute_result"
    }
   ],
   "source": [
    "df_adm['admission_type'].value_counts()"
   ]
  },
  {
   "cell_type": "code",
   "execution_count": 11,
   "metadata": {},
   "outputs": [
    {
     "name": "stdout",
     "output_type": "stream",
     "text": [
      "Number of death admissions: 8598\n",
      "Length of the hadm_id list: 8598\n",
      "Total rows in admissions dataframe: 422633\n",
      "Non-death admissions: 422633\n"
     ]
    }
   ],
   "source": [
    "# Removing Dead patients, first store the hadm_ids for dead patients in a list as it will help remove notes for these patients \n",
    "#from discharge and radiology tables.\n",
    "\n",
    "hadm_rows_death = df_adm.loc[df_adm.deathtime.notnull()]\n",
    "print(\"Number of death admissions:\", len(hadm_rows_death))\n",
    "\n",
    "hadm_death_list = hadm_rows_death[\"hadm_id\"].tolist()\n",
    "print(\"Length of the hadm_id list:\", len(hadm_death_list))\n",
    "\n",
    "df_adm = df_adm.loc[df_adm.deathtime.isnull()]\n",
    "\n",
    "print('Total rows in admissions dataframe:', len(df_adm))\n",
    "print('Non-death admissions:', df_adm.deathtime.isnull().sum())"
   ]
  },
  {
   "cell_type": "code",
   "execution_count": 12,
   "metadata": {},
   "outputs": [
    {
     "name": "stdout",
     "output_type": "stream",
     "text": [
      "Number of missing admissions dates: 0\n",
      "Number of missing discharge dates: 0\n"
     ]
    }
   ],
   "source": [
    "#Converting format of admission, discharge and death time\n",
    "\n",
    "df_adm.admittime = pd.to_datetime(df_adm.admittime, format = '%Y-%m-%d %H:%M:%S', errors = 'coerce')\n",
    "df_adm.dischtime = pd.to_datetime(df_adm.dischtime, format = '%Y-%m-%d %H:%M:%S', errors = 'coerce')\n",
    "df_adm.deathtime = pd.to_datetime(df_adm.deathtime, format = '%Y-%m-%d %H:%M:%S', errors = 'coerce')\n",
    "\n",
    "# Check to see if there are any missing dates\n",
    "print('Number of missing admissions dates:', df_adm.admittime.isnull().sum())\n",
    "print('Number of missing discharge dates:', df_adm.dischtime.isnull().sum())"
   ]
  },
  {
   "cell_type": "code",
   "execution_count": 13,
   "metadata": {},
   "outputs": [],
   "source": [
    "# sort by subject_ID and admission date\n",
    "df_adm = df_adm.sort_values(['subject_id','admittime'])\n",
    "# When we reset the index, the old index is added as a column, and a new sequential index is used. Use the 'drop' parameter to avoid the old index being added as a column\n",
    "df_adm = df_adm.reset_index(drop = True)"
   ]
  },
  {
   "cell_type": "code",
   "execution_count": 14,
   "metadata": {},
   "outputs": [],
   "source": [
    "# Creating new column having the \"next admission time\"  and \"next admission type\" for each patient\n",
    "\n",
    "df_adm['next_admittime'] = df_adm.groupby('subject_id').admittime.shift(-1)\n",
    "df_adm['next_admission_type'] = df_adm.groupby('subject_id').admission_type.shift(-1)"
   ]
  },
  {
   "cell_type": "code",
   "execution_count": 15,
   "metadata": {},
   "outputs": [],
   "source": [
    "# Replace all \"Elective\" admission type to NaN\n",
    "\n",
    "rows = df_adm.next_admission_type == 'ELECTIVE'\n",
    "df_adm.loc[rows,'next_admittime'] = pd.NaT\n",
    "df_adm.loc[rows,'next_admission_type'] = np.NaN"
   ]
  },
  {
   "cell_type": "code",
   "execution_count": 16,
   "metadata": {},
   "outputs": [],
   "source": [
    "# Sort by subject_id and admission date\n",
    "\n",
    "df_adm = df_adm.sort_values(['subject_id','admittime'])\n",
    "\n",
    "# Recalculate the next admission time and next admission type using Back fill method\n",
    "df_adm[['next_admittime','next_admission_type']] = df_adm.groupby(['subject_id'])[['next_admittime','next_admission_type']].fillna(method = 'bfill')"
   ]
  },
  {
   "cell_type": "code",
   "execution_count": 17,
   "metadata": {},
   "outputs": [],
   "source": [
    "# Calculate the days between first admission and next Emergency admission\n",
    "df_adm['days_til_next_admit'] = (df_adm.next_admittime - df_adm.dischtime).dt.total_seconds()/(24*60*60)"
   ]
  },
  {
   "cell_type": "code",
   "execution_count": 18,
   "metadata": {},
   "outputs": [],
   "source": [
    "# All notes for dead patients are removed from discharge dataset\n",
    "df_ds = df_ds[~df_ds['hadm_id'].isin(hadm_death_list)]\n",
    "df_ds = df_ds.reset_index(drop = True)"
   ]
  },
  {
   "cell_type": "code",
   "execution_count": 19,
   "metadata": {},
   "outputs": [
    {
     "name": "stdout",
     "output_type": "stream",
     "text": [
      "Number of missing charttime dates: 0\n",
      "datetime64[ns]\n"
     ]
    }
   ],
   "source": [
    "# Converting format of charttime to dates\n",
    "df_ds.charttime = pd.to_datetime(df_ds.charttime, format = '%Y-%m-%d %H:%M:%S', errors = 'coerce')\n",
    "# Check to see if there are any missing dates\n",
    "print('Number of missing charttime dates:', df_ds.charttime.isnull().sum())\n",
    "print(df_ds.charttime.dtypes)\n",
    "\n",
    "# Sort by subject_ID, CHARTTIME\n",
    "df_ds = df_ds.sort_values(['subject_id','charttime'])\n",
    "df_ds = df_ds.reset_index(drop = True)"
   ]
  },
  {
   "cell_type": "code",
   "execution_count": 20,
   "metadata": {},
   "outputs": [],
   "source": [
    "# Form new dataframe with just subject_id and text column from discharge dataset\n",
    "df_ds_notes = df_ds[['subject_id', 'text']].copy()\n",
    "\n",
    "# Group the notes in text column based on subject_id for each patient\n",
    "df_ds_notes = df_ds_notes.groupby('subject_id')['text'].agg(' '.join).reset_index()\n",
    "df_ds_notes.rename(columns={\"text\":\"text_concat\"}, inplace=True)"
   ]
  },
  {
   "cell_type": "code",
   "execution_count": 21,
   "metadata": {},
   "outputs": [],
   "source": [
    "# All notes for dead patients are removed from radiology dataset\n",
    "df_radiology = df_radiology[~df_radiology['hadm_id'].isin(hadm_death_list)]\n",
    "df_radiology= df_radiology.reset_index(drop = True)"
   ]
  },
  {
   "cell_type": "code",
   "execution_count": 22,
   "metadata": {},
   "outputs": [
    {
     "name": "stdout",
     "output_type": "stream",
     "text": [
      "Number of missing charttime dates: 0\n",
      "datetime64[ns]\n"
     ]
    }
   ],
   "source": [
    "# Converting format of charttime to dates\n",
    "df_radiology.charttime = pd.to_datetime(df_radiology.charttime, format = '%Y-%m-%d %H:%M:%S', errors = 'coerce')\n",
    "# Check to see if there are any missing dates\n",
    "print('Number of missing charttime dates:', df_radiology.charttime.isnull().sum())\n",
    "print(df_radiology.charttime.dtypes)\n",
    "\n",
    "# Sort by subject_ID, CHARTTIME\n",
    "df_radiology = df_radiology.sort_values(['subject_id','charttime'])\n",
    "df_radiology = df_radiology.reset_index(drop = True)"
   ]
  },
  {
   "cell_type": "code",
   "execution_count": 23,
   "metadata": {},
   "outputs": [],
   "source": [
    "# Form new dataframe with just subject_id and text column from radiology dataset\n",
    "df_radiology_notes = df_radiology[['subject_id', 'text']].copy()\n",
    "\n",
    "# Group the notes in text column based on subject_id for each patient\n",
    "df_radiology_notes = df_radiology_notes.groupby('subject_id')['text'].agg(' '.join).reset_index()\n",
    "df_radiology_notes.rename(columns={\"text\":\"text_concat\"}, inplace=True)"
   ]
  },
  {
   "cell_type": "code",
   "execution_count": 24,
   "metadata": {},
   "outputs": [],
   "source": [
    "# New datasets for discharge and radiology are concatenated into single dataset\n",
    "df_notes = pd.concat([df_ds_notes, df_radiology_notes], ignore_index=True)\n",
    "\n",
    "# Group the notes in text column based on subject_id for each patient\n",
    "df_notes = df_notes.groupby('subject_id')['text_concat'].agg(' '.join).reset_index()\n",
    "df_notes.rename(columns={\"text_concat\":\"text\"}, inplace=True)\n",
    "\n",
    "assert df_notes.duplicated(['subject_id']).sum() == 0, 'Dulpicate SUBJECT_IDs exist'"
   ]
  },
  {
   "cell_type": "code",
   "execution_count": 25,
   "metadata": {},
   "outputs": [],
   "source": [
    "# Merge the df_adm and df_notes dataset to form a new dataset df_adm_notes\n",
    "df_adm_notes = pd.merge(df_adm[['subject_id','hadm_id','admittime','dischtime','days_til_next_admit','next_admittime','admission_type','deathtime']],\n",
    "                        df_notes, \n",
    "                        on = ['subject_id'],\n",
    "                        how = 'left')\n",
    "assert len(df_adm) == len(df_adm_notes), 'Number of rows increased'"
   ]
  },
  {
   "cell_type": "code",
   "execution_count": 26,
   "metadata": {},
   "outputs": [
    {
     "data": {
      "text/plain": [
       "admission_type\n",
       "AMBULATORY OBSERVATION    0.009509\n",
       "DIRECT EMER.              0.002402\n",
       "DIRECT OBSERVATION        0.025158\n",
       "ELECTIVE                  0.003565\n",
       "EU OBSERVATION            0.081962\n",
       "EW EMER.                  0.001359\n",
       "OBSERVATION ADMIT         0.000930\n",
       "URGENT                    0.049450\n",
       "dtype: float64"
      ]
     },
     "execution_count": 26,
     "metadata": {},
     "output_type": "execute_result"
    }
   ],
   "source": [
    "#Checking for rows with null text \n",
    "df_adm_notes['text'].isnull().sum()\n",
    "rows_with_null_text= df_adm_notes[df_adm_notes['text'].isnull()]\n",
    "\n",
    "#2.57 % of the admissions are missing\n",
    "df_adm_notes.text.isnull().sum() / len(df_adm_notes)\n",
    "\n",
    "df_adm_notes.groupby('admission_type').apply(lambda g: g.text.isnull().sum())/df_adm_notes.groupby('admission_type').size()"
   ]
  },
  {
   "cell_type": "code",
   "execution_count": 27,
   "metadata": {},
   "outputs": [
    {
     "name": "stdout",
     "output_type": "stream",
     "text": [
      "Number of positive samples: 79636\n",
      "Number of negative samples: 342997\n",
      "Total samples: 422633\n"
     ]
    }
   ],
   "source": [
    "# Creating the target, check if patient will be admitted within 30 days of discharge \n",
    "# Target variable labels are 1=readmitted, 0=not readmitted\n",
    "# Create new column readmit_lable of 1's or 0's based on DAYS_TIL_NEXT_ADMIT\n",
    "\n",
    "df_adm_notes['readmit_lable'] = (df_adm_notes.days_til_next_admit < 30).astype('int')\n",
    "\n",
    "print('Number of positive samples:', (df_adm_notes.readmit_lable == 1).sum())\n",
    "print('Number of negative samples:', (df_adm_notes.readmit_lable == 0).sum())\n",
    "print('Total samples:', len(df_adm_notes))"
   ]
  },
  {
   "cell_type": "code",
   "execution_count": 28,
   "metadata": {},
   "outputs": [
    {
     "name": "stdout",
     "output_type": "stream",
     "text": [
      "Length of df_adm_notes_squashed: 176903\n",
      "Length of df_subj_labels_squashed: 176903\n"
     ]
    },
    {
     "name": "stderr",
     "output_type": "stream",
     "text": [
      "C:\\Users\\Tanvi\\AppData\\Local\\Temp\\ipykernel_16948\\1928883327.py:9: SettingWithCopyWarning: \n",
      "A value is trying to be set on a copy of a slice from a DataFrame\n",
      "\n",
      "See the caveats in the documentation: https://pandas.pydata.org/pandas-docs/stable/user_guide/indexing.html#returning-a-view-versus-a-copy\n",
      "  df_adm_notes_squashed.drop(columns=['readmit_lable'], inplace=True)\n",
      "C:\\Users\\Tanvi\\AppData\\Local\\Temp\\ipykernel_16948\\1928883327.py:11: SettingWithCopyWarning: \n",
      "A value is trying to be set on a copy of a slice from a DataFrame\n",
      "\n",
      "See the caveats in the documentation: https://pandas.pydata.org/pandas-docs/stable/user_guide/indexing.html#returning-a-view-versus-a-copy\n",
      "  df_adm_notes_squashed.drop_duplicates(subset='subject_id', keep='first', inplace=True)\n"
     ]
    }
   ],
   "source": [
    "# Take only the 3 essenial columns\n",
    "df_adm_notes_squashed = df_adm_notes[['subject_id', 'text', 'readmit_lable']]\n",
    "\n",
    "df_subj_labels_squashed = df_adm_notes_squashed.groupby('subject_id')[['readmit_lable']].sum().reset_index()\n",
    "df_subj_labels_squashed.rename(columns={\"readmit_lable\":\"readmit_lable_summed\"}, inplace=True)\n",
    "\n",
    "df_subj_labels_squashed['readmit_lable'] = (df_subj_labels_squashed['readmit_lable_summed'] >= 1).astype(int)\n",
    "df_subj_labels_squashed.drop(columns=['readmit_lable_summed'], inplace=True)\n",
    "df_adm_notes_squashed.drop(columns=['readmit_lable'], inplace=True)\n",
    "\n",
    "df_adm_notes_squashed.drop_duplicates(subset='subject_id', keep='first', inplace=True)\n",
    "print('Length of df_adm_notes_squashed:', len(df_adm_notes_squashed))\n",
    "print('Length of df_subj_labels_squashed:', len(df_subj_labels_squashed))"
   ]
  },
  {
   "cell_type": "code",
   "execution_count": 29,
   "metadata": {},
   "outputs": [
    {
     "name": "stdout",
     "output_type": "stream",
     "text": [
      "Number of positive samples: 37023\n",
      "Number of negative samples: 139880\n",
      "Total samples: 176903\n"
     ]
    }
   ],
   "source": [
    "df_adm_notes_merged = pd.merge(df_subj_labels_squashed[['subject_id','readmit_lable']],\n",
    "                        df_adm_notes_squashed, \n",
    "                        on = ['subject_id'],\n",
    "                        how = 'left')\n",
    "assert len(df_subj_labels_squashed) == len(df_adm_notes_merged), 'Number of rows increased'\n",
    "\n",
    "print('Number of positive samples:', (df_adm_notes_merged.readmit_lable == 1).sum())\n",
    "print('Number of negative samples:', (df_adm_notes_merged.readmit_lable == 0).sum())\n",
    "print('Total samples:', len(df_adm_notes_merged))\n",
    "\n",
    "df_adm_notes_merged = df_adm_notes_merged.sample(n=len(df_adm_notes_merged), random_state=42)\n",
    "df_adm_notes_merged = df_adm_notes_merged.reset_index(drop=True)"
   ]
  },
  {
   "cell_type": "code",
   "execution_count": 31,
   "metadata": {},
   "outputs": [
    {
     "name": "stderr",
     "output_type": "stream",
     "text": [
      "C:\\Users\\Tanvi\\AppData\\Local\\Temp\\ipykernel_16948\\744651277.py:4: SettingWithCopyWarning: \n",
      "A value is trying to be set on a copy of a slice from a DataFrame\n",
      "\n",
      "See the caveats in the documentation: https://pandas.pydata.org/pandas-docs/stable/user_guide/indexing.html#returning-a-view-versus-a-copy\n",
      "  df_adm_notes_merged.rename(columns={'readmit_lable': 'label'}, inplace=True)\n"
     ]
    }
   ],
   "source": [
    "# Form the new dataset with just text column and target variable \n",
    "df_adm_notes_merged = df_adm_notes_merged[['text','readmit_lable']]\n",
    "\n",
    "df_adm_notes_merged.rename(columns={'readmit_lable': 'label'}, inplace=True)\n",
    "\n",
    "df_adm_notes_merged = df_adm_notes_merged.dropna(subset=['text'])\n",
    "df_adm_notes_merged= df_adm_notes_merged.reset_index(drop = True)"
   ]
  },
  {
   "cell_type": "code",
   "execution_count": 33,
   "metadata": {},
   "outputs": [],
   "source": [
    "# Randomly sampled my huge MIMIC-IV dataset to just 15000 rows\n",
    "sample_size = 15000  \n",
    "df_adm_notes_merged_sample = df_adm_notes_merged.sample(n=sample_size, random_state=42)  \n",
    "df_adm_notes_merged_sample.reset_index(drop=True, inplace=True)"
   ]
  },
  {
   "cell_type": "markdown",
   "metadata": {},
   "source": [
    "Data Pre-processing\n",
    "1. Balancing the dataset based on the prevalance score\n",
    "2. Lowercasing\n",
    "3. Remove punctuations\n",
    "4. Remove words and number\n",
    "5. Remove new line characters\n",
    "6. Remove underscore & unwanted space"
   ]
  },
  {
   "cell_type": "code",
   "execution_count": 34,
   "metadata": {},
   "outputs": [
    {
     "name": "stdout",
     "output_type": "stream",
     "text": [
      "Training set prevalence (n = 15000): 22.31%\n"
     ]
    },
    {
     "data": {
      "image/png": "[encoded data removed]",
      "text/plain": [
       "<Figure size 640x480 with 1 Axes>"
      ]
     },
     "metadata": {},
     "output_type": "display_data"
    },
    {
     "name": "stdout",
     "output_type": "stream",
     "text": [
      "Main - Class: 0\n",
      "Number of Samples: 11653\n",
      "Prevalence: 77.69%\n",
      "\n",
      "Main - Class: 1\n",
      "Number of Samples: 3347\n",
      "Prevalence: 22.31%\n",
      "\n"
     ]
    }
   ],
   "source": [
    "# Calculate and display prevalence for the training set\n",
    "main_prevalence = (df_adm_notes_merged_sample['label'].sum() / len(df_adm_notes_merged_sample)) * 100\n",
    "print(\"Training set prevalence (n = {:d}): {:.2f}%\".format(len(df_adm_notes_merged_sample), main_prevalence))\n",
    "\n",
    "datasets = {\n",
    "    'Main': df_adm_notes_merged_sample\n",
    "}\n",
    "\n",
    "for dataset_name, dataset_df in datasets.items():\n",
    "    # Calculate class distribution\n",
    "    class_counts = dataset_df['label'].value_counts()\n",
    "\n",
    "    # Calculate prevalence\n",
    "    prevalence = class_counts / len(dataset_df) * 100\n",
    "\n",
    "    # Visualize class distribution\n",
    "    plt.figure()\n",
    "    plt.bar(class_counts.index, class_counts)\n",
    "    plt.xlabel('Class')\n",
    "    plt.ylabel('Number of Samples')\n",
    "    plt.title(f'Class Distribution - {dataset_name}')\n",
    "    plt.xticks(class_counts.index, labels=['Negative', 'Positive'])  # Replace with actual class labels\n",
    "    plt.show()\n",
    "\n",
    "    # Print class distribution and prevalence\n",
    "    for label, count, prev in zip(class_counts.index, class_counts, prevalence):\n",
    "        print(f\"{dataset_name} - Class:\", label)\n",
    "        print(\"Number of Samples:\", count)\n",
    "        print(\"Prevalence: {:.2f}%\".format(prev))\n",
    "        print()\n"
   ]
  },
  {
   "cell_type": "code",
   "execution_count": 35,
   "metadata": {},
   "outputs": [
    {
     "name": "stdout",
     "output_type": "stream",
     "text": [
      "dataset set prevalence (n = 6694): 50.00%\n"
     ]
    },
    {
     "data": {
      "image/png": "[encoded data removed]",
      "text/plain": [
       "<Figure size 640x480 with 1 Axes>"
      ]
     },
     "metadata": {},
     "output_type": "display_data"
    },
    {
     "name": "stdout",
     "output_type": "stream",
     "text": [
      "Main - Class: 0\n",
      "Number of Samples: 3347\n",
      "Prevalence: 50.00%\n",
      "\n",
      "Main - Class: 1\n",
      "Number of Samples: 3347\n",
      "Prevalence: 50.00%\n",
      "\n"
     ]
    }
   ],
   "source": [
    "# Balancing the data prevalance using Sub sampling as it is efficient when computation power is low\n",
    "\n",
    "pos_rows = df_adm_notes_merged_sample.label == 1\n",
    "df_adm_notes_merged_pos = df_adm_notes_merged_sample.loc[pos_rows]\n",
    "df_adm_notes_merged_neg = df_adm_notes_merged_sample.loc[~pos_rows]\n",
    "df_adm_notes_merged_balanced = pd.concat([df_adm_notes_merged_pos, df_adm_notes_merged_neg.sample(n=len(df_adm_notes_merged_pos), random_state=42)], axis=0)\n",
    "df_adm_notes_merged_balanced = df_adm_notes_merged_balanced.sample(n=len(df_adm_notes_merged_balanced), random_state=42).reset_index(drop=True)\n",
    "prevalence = (df_adm_notes_merged_balanced.label.sum() / len(df_adm_notes_merged_balanced)) * 100\n",
    "print(\"dataset set prevalence (n = {:d}): {:.2f}%\".format(len(df_adm_notes_merged_balanced), prevalence))\n",
    "\n",
    "\n",
    "datasets = {\n",
    "    'Main': df_adm_notes_merged_balanced\n",
    "}\n",
    "\n",
    "for dataset_name, dataset_df in datasets.items():\n",
    "    # Calculate class distribution\n",
    "    class_counts = dataset_df['label'].value_counts()\n",
    "\n",
    "    # Calculate prevalence\n",
    "    prevalence = class_counts / len(dataset_df) * 100\n",
    "\n",
    "    # Visualize class distribution\n",
    "    plt.figure()\n",
    "    plt.bar(class_counts.index, class_counts)\n",
    "    plt.xlabel('Class')\n",
    "    plt.ylabel('Number of Samples')\n",
    "    plt.title(f'Class Distribution - {dataset_name}')\n",
    "    plt.xticks(class_counts.index, labels=['Negative', 'Positive'])  # Replace with actual class labels\n",
    "    plt.show()\n",
    "\n",
    "    # Print class distribution and prevalence\n",
    "    for label, count, prev in zip(class_counts.index, class_counts, prevalence):\n",
    "        print(f\"{dataset_name} - Class:\", label)\n",
    "        print(\"Number of Samples:\", count)\n",
    "        print(\"Prevalence: {:.2f}%\".format(prev))\n",
    "        print()\n"
   ]
  },
  {
   "cell_type": "code",
   "execution_count": 36,
   "metadata": {},
   "outputs": [
    {
     "name": "stdout",
     "output_type": "stream",
     "text": [
      "Train Data: 4685\n",
      "Validation Data: 1004\n",
      "Test Data: 1005\n"
     ]
    }
   ],
   "source": [
    "# Split the data into train, valid and test\n",
    "train_ratio = 0.7\n",
    "val_ratio = 0.15\n",
    "test_ratio = 0.15\n",
    "\n",
    "df_train, remaining_df = train_test_split(df_adm_notes_merged_balanced, train_size=train_ratio, random_state=42)\n",
    "df_train.reset_index(drop=True, inplace=True)\n",
    "df_validation, df_test = train_test_split(remaining_df, train_size=val_ratio / (val_ratio + test_ratio), random_state=42)\n",
    "df_validation.reset_index(drop=True, inplace=True)\n",
    "df_test.reset_index(drop=True, inplace=True)\n",
    "\n",
    "# Print the sizes of the splits\n",
    "print(\"Train Data:\", df_train.shape[0])\n",
    "print(\"Validation Data:\", df_validation.shape[0])\n",
    "print(\"Test Data:\", df_test.shape[0])\n"
   ]
  },
  {
   "cell_type": "code",
   "execution_count": 37,
   "metadata": {},
   "outputs": [
    {
     "name": "stdout",
     "output_type": "stream",
     "text": [
      "Training set prevalence (n = 4685): 50.89%\n",
      "Validation set prevalence (n = 1004): 45.32%\n",
      "Test set prevalence (n = 1005): 50.55%\n",
      "All samples (n = 167258)\n"
     ]
    }
   ],
   "source": [
    "# Calculate and display prevalence for the train, valid and test datasets\n",
    "train_prevalence = (df_train['label'].sum() / len(df_train)) * 100\n",
    "print(\"Training set prevalence (n = {:d}): {:.2f}%\".format(len(df_train), train_prevalence))\n",
    "\n",
    "valid_prevalence = (df_validation['label'].sum() / len(df_validation)) * 100\n",
    "print(\"Validation set prevalence (n = {:d}): {:.2f}%\".format(len(df_validation), valid_prevalence))\n",
    "\n",
    "test_prevalence = (df_test['label'].sum() / len(df_test)) * 100\n",
    "print(\"Test set prevalence (n = {:d}): {:.2f}%\".format(len(df_test), test_prevalence))\n",
    "\n",
    "print(\"All samples (n = {:d})\".format(len(df_adm_notes_merged)))"
   ]
  },
  {
   "cell_type": "code",
   "execution_count": 41,
   "metadata": {},
   "outputs": [],
   "source": [
    "# Step 1: Lowercasing\n",
    "df_train['text'] = df_train['text'].fillna('').apply(lambda x: x.lower())\n",
    "df_validation['text'] = df_validation['text'].fillna('').apply(lambda x: x.lower())\n",
    "df_test['text'] = df_test['text'].fillna('').apply(lambda x: x.lower())\n",
    "\n",
    "#Step 2 & 3: Removing Punctuation and Numbers and Words with Numbers\n",
    "def remove_punctuation_and_numbers(text):\n",
    "    text = re.sub(r'[^\\w\\s]', '', text)\n",
    "    text = re.sub(r'\\b\\d+\\b|\\w*\\d\\w*', '', text)\n",
    "    return text\n",
    "\n",
    "df_train['text'] = df_train['text'].apply(remove_punctuation_and_numbers)\n",
    "df_validation['text'] = df_validation['text'].apply(remove_punctuation_and_numbers)\n",
    "df_test['text'] = df_test['text'].apply(remove_punctuation_and_numbers)\n",
    "\n",
    "# Step 4: Removing Newline Characters\n",
    "df_train['text'] = df_train['text'].str.replace('\\n', '').str.replace('\\r', '')\n",
    "df_validation['text'] = df_validation['text'].str.replace('\\n', '').str.replace('\\r', '')\n",
    "df_test['text'] = df_test['text'].str.replace('\\n', '').str.replace('\\r', '')\n",
    "\n",
    "# Step 5: Remove underscores from the text column\n",
    "df_train['text'] = df_train['text'].str.replace('_', ' ')\n",
    "df_validation['text'] = df_validation['text'].str.replace('_', ' ')\n",
    "df_test['text'] = df_test['text'].str.replace('_', ' ')\n",
    "\n",
    "# Step 6: Replace multiple spaces with a single space in the text column\n",
    "df_train['text'] = df_train['text'].apply(lambda text: re.sub(r'\\s+', ' ', text).strip())\n",
    "df_validation['text'] = df_validation['text'].apply(lambda text: re.sub(r'\\s+', ' ', text).strip())\n",
    "df_test['text'] = df_test['text'].apply(lambda text: re.sub(r'\\s+', ' ', text).strip())"
   ]
  },
  {
   "cell_type": "code",
   "execution_count": 45,
   "metadata": {},
   "outputs": [],
   "source": [
    "# Create a copy of the pre-processed datasets for Clinical BERT model\n",
    "df_train_bert = df_train.copy()\n",
    "df_test_bert = df_test.copy()\n",
    "df_validation_bert = df_validation.copy()"
   ]
  },
  {
   "cell_type": "code",
   "execution_count": 47,
   "metadata": {},
   "outputs": [],
   "source": [
    "# Save the DataFrame as a CSV file for all models\n",
    "df_train.to_csv(\"train_final.csv\", index=False)\n",
    "df_test.to_csv(\"test_final.csv\", index=False)\n",
    "df_validation.to_csv(\"validation_final.csv\", index=False)\n",
    "\n",
    "# Save the DataFrame as a CSV file for BERT model\n",
    "df_train_bert.to_csv(\"train_bert_final.csv\", index=False)\n",
    "df_test_bert.to_csv(\"test_bert_final.csv\", index=False)\n",
    "df_validation_bert.to_csv(\"validation_bert_final.csv\", index=False)"
   ]
  }
 ],
 "metadata": {
  "kernelspec": {
   "display_name": "dissertation",
   "language": "python",
   "name": "python3"
  },
  "language_info": {
   "codemirror_mode": {
    "name": "ipython",
    "version": 3
   },
   "file_extension": ".py",
   "mimetype": "text/x-python",
   "name": "python",
   "nbconvert_exporter": "python",
   "pygments_lexer": "ipython3",
   "version": "3.8.17"
  },
  "orig_nbformat": 4
 },
 "nbformat": 4,
 "nbformat_minor": 2
}
