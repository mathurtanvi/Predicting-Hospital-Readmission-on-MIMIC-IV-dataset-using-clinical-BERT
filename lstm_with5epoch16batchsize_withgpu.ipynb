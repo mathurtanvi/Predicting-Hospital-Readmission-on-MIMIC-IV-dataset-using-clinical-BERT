{
  "nbformat": 4,
  "nbformat_minor": 0,
  "metadata": {
    "colab": {
      "provenance": [],
      "gpuType": "T4"
    },
    "kernelspec": {
      "name": "python3",
      "display_name": "Python 3"
    },
    "language_info": {
      "name": "python"
    },
    "accelerator": "GPU"
  },
  "cells": [
    {
      "cell_type": "code",
      "source": [
        "from google.colab import drive\n",
        "drive.mount('/content/drive')"
      ],
      "metadata": {
        "colab": {
          "base_uri": "https://localhost:8080/"
        },
        "id": "EV7xKvxWI_dc",
        "outputId": "f2444924-8a6b-4fe0-b75d-d23bedfdfe5e"
      },
      "execution_count": null,
      "outputs": [
        {
          "output_type": "stream",
          "name": "stdout",
          "text": [
            "Mounted at /content/drive\n"
          ]
        }
      ]
    },
    {
      "cell_type": "code",
      "source": [
        "import pandas as pd\n",
        "import numpy as np\n",
        "import matplotlib.pyplot as plt\n",
        "from tensorflow.keras.preprocessing.text import Tokenizer\n",
        "from tensorflow.keras.preprocessing.sequence import pad_sequences\n",
        "from tensorflow.keras.models import Sequential\n",
        "from tensorflow.keras.layers import Embedding, LSTM, Dense, Dropout\n",
        "from sklearn.metrics import classification_report\n",
        "from sklearn.metrics import accuracy_score, precision_score, recall_score, f1_score\n"
      ],
      "metadata": {
        "id": "Sg8GqkSYJB4U"
      },
      "execution_count": null,
      "outputs": []
    },
    {
      "cell_type": "code",
      "execution_count": null,
      "metadata": {
        "id": "cNj8gsRCIaM9"
      },
      "outputs": [],
      "source": [
        "#Reading the train data from drive\n",
        "lstm_train = pd.read_csv('/content/drive/MyDrive/Dataset for Models/train_final.csv')\n",
        "#Reading the train data from drive\n",
        "lstm_test = pd.read_csv('/content/drive/MyDrive/Dataset for Models/test_final.csv')\n",
        "#Reading the train data from drive\n",
        "lstm_validation = pd.read_csv('/content/drive/MyDrive/Dataset for Models/validation_final.csv')"
      ]
    },
    {
      "cell_type": "code",
      "source": [
        "\n",
        "y_train = lstm_train['label']\n",
        "\n",
        "y_valid = lstm_validation['label']\n",
        "\n",
        "y_test = lstm_test['label']"
      ],
      "metadata": {
        "id": "IIOLJycXMjco"
      },
      "execution_count": null,
      "outputs": []
    },
    {
      "cell_type": "code",
      "source": [
        "# Combine the tokenized text from your data_frames\n",
        "all_text = np.concatenate([lstm_train['text'], lstm_validation['text'], lstm_test['text']])"
      ],
      "metadata": {
        "id": "RsPtxC_UKsib"
      },
      "execution_count": null,
      "outputs": []
    },
    {
      "cell_type": "markdown",
      "source": [
        "Tokenization of data"
      ],
      "metadata": {
        "id": "B9DJJx7UcsJ2"
      }
    },
    {
      "cell_type": "code",
      "source": [
        "# Tokenization and Sequence Conversion\n",
        "tokenizer = Tokenizer()\n",
        "tokenizer.fit_on_texts(all_text)\n",
        "X_train_seq = tokenizer.texts_to_sequences(lstm_train['text'])\n",
        "X_valid_seq = tokenizer.texts_to_sequences(lstm_validation['text'])\n",
        "X_test_seq = tokenizer.texts_to_sequences(lstm_test['text'])"
      ],
      "metadata": {
        "id": "uVuLd0DS2hkR"
      },
      "execution_count": null,
      "outputs": []
    },
    {
      "cell_type": "code",
      "source": [
        "# Padding sequences\n",
        "max_sequence_length = max(map(len, X_train_seq + X_valid_seq + X_test_seq))\n",
        "X_train_padded = pad_sequences(X_train_seq, maxlen=max_sequence_length, padding='post')\n",
        "X_valid_padded = pad_sequences(X_valid_seq, maxlen=max_sequence_length, padding='post')\n",
        "X_test_padded = pad_sequences(X_test_seq, maxlen=max_sequence_length, padding='post')"
      ],
      "metadata": {
        "id": "tvwJlMMj2pG8"
      },
      "execution_count": null,
      "outputs": []
    },
    {
      "cell_type": "code",
      "source": [
        "# Define the LSTM Model\n",
        "embedding_dim = 50  # Embedding Dimension\n",
        "lstm_units = 64     # LSTM Units\n",
        "lstm_model = Sequential([\n",
        "    Embedding(input_dim=len(tokenizer.word_index) + 1, output_dim=embedding_dim, input_length=max_sequence_length),\n",
        "    LSTM(lstm_units, return_sequences=True),\n",
        "    Dropout(0.5),\n",
        "    LSTM(lstm_units),\n",
        "    Dense(2, activation='softmax')\n",
        "])\n"
      ],
      "metadata": {
        "id": "HmxjyHd02wct"
      },
      "execution_count": null,
      "outputs": []
    },
    {
      "cell_type": "code",
      "source": [
        "# Compile the model\n",
        "lstm_model.compile(optimizer='adam', loss='sparse_categorical_crossentropy', metrics=['accuracy'])\n"
      ],
      "metadata": {
        "id": "ZukzKe8W203g"
      },
      "execution_count": null,
      "outputs": []
    },
    {
      "cell_type": "code",
      "source": [
        "# Train the model (You might need to adjust the number of epochs and batch size according to your needs)\n",
        "lstm_model.fit(X_train_padded, y_train, validation_data=(X_valid_padded, y_valid), epochs= 5, batch_size=16)"
      ],
      "metadata": {
        "id": "zgOLBz8824aH",
        "colab": {
          "base_uri": "https://localhost:8080/"
        },
        "outputId": "ec90fb89-28a8-433e-c6d9-f67057ea4886"
      },
      "execution_count": null,
      "outputs": [
        {
          "output_type": "stream",
          "name": "stdout",
          "text": [
            "Epoch 1/5\n",
            "293/293 [==============================] - 1184s 4s/step - loss: 0.6940 - accuracy: 0.4946 - val_loss: 0.6922 - val_accuracy: 0.5468\n",
            "Epoch 2/5\n",
            "293/293 [==============================] - 1124s 4s/step - loss: 0.6934 - accuracy: 0.4995 - val_loss: 0.6968 - val_accuracy: 0.4532\n",
            "Epoch 3/5\n",
            "293/293 [==============================] - 1128s 4s/step - loss: 0.6933 - accuracy: 0.4999 - val_loss: 0.7008 - val_accuracy: 0.4532\n",
            "Epoch 4/5\n",
            "293/293 [==============================] - 1067s 4s/step - loss: 0.6936 - accuracy: 0.5054 - val_loss: 0.6962 - val_accuracy: 0.4532\n",
            "Epoch 5/5\n",
            "293/293 [==============================] - 1128s 4s/step - loss: 0.6933 - accuracy: 0.5089 - val_loss: 0.6942 - val_accuracy: 0.4532\n"
          ]
        },
        {
          "output_type": "execute_result",
          "data": {
            "text/plain": [
              "<keras.src.callbacks.History at 0x784bf9f5cca0>"
            ]
          },
          "metadata": {},
          "execution_count": 10
        }
      ]
    },
    {
      "cell_type": "code",
      "source": [
        "# Evaluate the model on the test dataset\n",
        "y_valid_pred_probs = lstm_model.predict(X_valid_padded)\n",
        "y_valid_pred_classes = np.argmax(y_valid_pred_probs, axis=1)\n",
        "\n",
        "# Calculate accuracy\n",
        "valid_accuracy = accuracy_score(y_valid, y_valid_pred_classes)\n",
        "print(\"valid Accuracy:\", valid_accuracy)\n",
        "\n",
        "# Calculate precision\n",
        "valid_precision = precision_score(y_valid, y_valid_pred_classes, average='weighted')\n",
        "print(\"valid Precision:\", valid_precision)\n",
        "\n",
        "# Calculate recall\n",
        "valid_recall = recall_score(y_valid, y_valid_pred_classes, average='weighted')\n",
        "print(\"valid Recall:\", valid_recall)\n",
        "\n",
        "# Calculate F1 score\n",
        "valid_f1_score = f1_score(y_valid, y_valid_pred_classes, average='weighted')\n",
        "print(\"valid F1 Score:\", valid_f1_score)\n"
      ],
      "metadata": {
        "colab": {
          "base_uri": "https://localhost:8080/"
        },
        "id": "N-byVWONAx0V",
        "outputId": "643eaa10-5307-422e-c934-268a4673548d"
      },
      "execution_count": null,
      "outputs": [
        {
          "output_type": "stream",
          "name": "stdout",
          "text": [
            "32/32 [==============================] - 55s 2s/step\n",
            "valid Accuracy: 0.4531872509960159\n",
            "valid Precision: 0.20537868446532595\n",
            "valid Recall: 0.4531872509960159\n",
            "valid F1 Score: 0.2826596287912093\n"
          ]
        },
        {
          "output_type": "stream",
          "name": "stderr",
          "text": [
            "/usr/local/lib/python3.10/dist-packages/sklearn/metrics/_classification.py:1344: UndefinedMetricWarning: Precision is ill-defined and being set to 0.0 in labels with no predicted samples. Use `zero_division` parameter to control this behavior.\n",
            "  _warn_prf(average, modifier, msg_start, len(result))\n"
          ]
        }
      ]
    },
    {
      "cell_type": "code",
      "source": [
        "# Evaluate the model on the test dataset\n",
        "y_test_pred_probs = lstm_model.predict(X_test_padded)\n",
        "y_test_pred_classes = np.argmax(y_test_pred_probs, axis=1)\n",
        "\n",
        "# Calculate accuracy\n",
        "test_accuracy = accuracy_score(y_test, y_test_pred_classes)\n",
        "print(\"Test Accuracy:\", test_accuracy)\n",
        "\n",
        "# Calculate precision\n",
        "test_precision = precision_score(y_test, y_test_pred_classes, average='weighted')\n",
        "print(\"valid Precision:\", test_precision)\n",
        "\n",
        "# Calculate recall\n",
        "test_recall = recall_score(y_test, y_test_pred_classes, average='weighted')\n",
        "print(\"valid Recall:\", test_recall)\n",
        "\n",
        "# Calculate F1 score\n",
        "test_f1_score = f1_score(y_test, y_test_pred_classes, average='weighted')\n",
        "print(\"valid F1 Score:\", test_f1_score)\n"
      ],
      "metadata": {
        "colab": {
          "base_uri": "https://localhost:8080/"
        },
        "id": "DMoBhQ4VA9yN",
        "outputId": "8425ba3d-14a0-47c9-987f-1f562446644d"
      },
      "execution_count": null,
      "outputs": [
        {
          "output_type": "stream",
          "name": "stdout",
          "text": [
            "32/32 [==============================] - 53s 2s/step\n",
            "Test Accuracy: 0.5054726368159204\n",
            "valid Precision: 0.2555025865696393\n",
            "valid Recall: 0.5054726368159204\n",
            "valid F1 Score: 0.3394317243919201\n"
          ]
        },
        {
          "output_type": "stream",
          "name": "stderr",
          "text": [
            "/usr/local/lib/python3.10/dist-packages/sklearn/metrics/_classification.py:1344: UndefinedMetricWarning: Precision is ill-defined and being set to 0.0 in labels with no predicted samples. Use `zero_division` parameter to control this behavior.\n",
            "  _warn_prf(average, modifier, msg_start, len(result))\n"
          ]
        }
      ]
    },
    {
      "cell_type": "code",
      "source": [
        "from sklearn.metrics import confusion_matrix, ConfusionMatrixDisplay\n",
        "\n",
        "# Calculate the confusion matrix\n",
        "cm = confusion_matrix(y_test, y_test_pred_classes)\n",
        "\n",
        "# Plot the confusion matrix\n",
        "cmd = ConfusionMatrixDisplay(cm, display_labels=['Class 0', 'Class 1'])\n",
        "cmd.plot()\n",
        "plt.title(\"Confusion Matrix\")\n",
        "plt.show()\n"
      ],
      "metadata": {
        "id": "w2EUAmd2hNTy",
        "colab": {
          "base_uri": "https://localhost:8080/",
          "height": 472
        },
        "outputId": "987f7496-f094-4336-e4dd-d082cdf99728"
      },
      "execution_count": null,
      "outputs": [
        {
          "output_type": "display_data",
          "data": {
            "text/plain": [
              "<Figure size 640x480 with 2 Axes>"
            ],
            "image/png": "[encoded data removed]"
          },
          "metadata": {}
        }
      ]
    },
    {
      "cell_type": "code",
      "source": [
        "from sklearn.metrics import roc_curve, auc, RocCurveDisplay\n",
        "\n",
        "# Calculate the ROC curve points\n",
        "fpr, tpr, thresholds = roc_curve(y_test, y_test_pred_probs[:, 1])\n",
        "\n",
        "# Calculate the ROC AUC\n",
        "roc_auc = auc(fpr, tpr)\n",
        "\n",
        "# Plot the ROC curve\n",
        "rcd = RocCurveDisplay(fpr=fpr, tpr=tpr, roc_auc=roc_auc, estimator_name='LSTM Model')\n",
        "rcd.plot()\n",
        "plt.title(\"ROC Curve\")\n",
        "plt.show()\n"
      ],
      "metadata": {
        "id": "g1YYvIVOhcIb",
        "colab": {
          "base_uri": "https://localhost:8080/",
          "height": 472
        },
        "outputId": "da6a05ff-4f31-45b0-f440-f521012e99c2"
      },
      "execution_count": null,
      "outputs": [
        {
          "output_type": "display_data",
          "data": {
            "text/plain": [
              "<Figure size 640x480 with 1 Axes>"
            ],
            "image/png": "[encoded data removed]"
          },
          "metadata": {}
        }
      ]
    }
  ]
}